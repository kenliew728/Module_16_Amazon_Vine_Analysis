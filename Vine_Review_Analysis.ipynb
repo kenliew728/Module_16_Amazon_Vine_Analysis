{
  "nbformat": 4,
  "nbformat_minor": 0,
  "metadata": {
    "colab": {
      "name": "Vine_Review_Analysis.ipynb",
      "provenance": []
    },
    "kernelspec": {
      "name": "python3",
      "display_name": "Python 3"
    }
  },
  "cells": [
    {
      "cell_type": "code",
      "metadata": {
        "colab": {
          "base_uri": "https://localhost:8080/"
        },
        "id": "en6-Kh22jGrH",
        "outputId": "2a8bae46-7af7-472e-ba83-e2e151eb931c"
      },
      "source": [
        "import os\r\n",
        "# Find the latest version of spark 2.0  from http://www-us.apache.org/dist/spark/ and enter as the spark version\r\n",
        "# For example:\r\n",
        "# spark_version = 'spark-3.0.0'\r\n",
        "spark_version = 'spark-3.0.1'\r\n",
        "os.environ['SPARK_VERSION']=spark_version\r\n",
        "\r\n",
        "# Install Spark and Java\r\n",
        "!apt-get update\r\n",
        "!apt-get install openjdk-11-jdk-headless -qq > /dev/null\r\n",
        "!wget -q http://www-us.apache.org/dist/spark/$SPARK_VERSION/$SPARK_VERSION-bin-hadoop2.7.tgz\r\n",
        "!tar xf $SPARK_VERSION-bin-hadoop2.7.tgz\r\n",
        "!pip install -q findspark\r\n",
        "\r\n",
        "# Set Environment Variables\r\n",
        "import os\r\n",
        "os.environ[\"JAVA_HOME\"] = \"/usr/lib/jvm/java-11-openjdk-amd64\"\r\n",
        "os.environ[\"SPARK_HOME\"] = f\"/content/{spark_version}-bin-hadoop2.7\"\r\n",
        "\r\n",
        "# Start a SparkSession\r\n",
        "import findspark\r\n",
        "findspark.init()"
      ],
      "execution_count": 1,
      "outputs": [
        {
          "output_type": "stream",
          "text": [
            "\r0% [Working]\r            \rGet:1 https://cloud.r-project.org/bin/linux/ubuntu bionic-cran40/ InRelease [3,626 B]\n",
            "\r0% [Connecting to archive.ubuntu.com] [Connecting to security.ubuntu.com] [1 In\r0% [Connecting to archive.ubuntu.com] [Connecting to security.ubuntu.com] [Conn\r0% [1 InRelease gpgv 3,626 B] [Connecting to archive.ubuntu.com (91.189.88.152)\r                                                                               \rIgn:2 https://developer.download.nvidia.com/compute/cuda/repos/ubuntu1804/x86_64  InRelease\n",
            "\r0% [1 InRelease gpgv 3,626 B] [Connecting to archive.ubuntu.com (91.189.88.152)\r                                                                               \rIgn:3 https://developer.download.nvidia.com/compute/machine-learning/repos/ubuntu1804/x86_64  InRelease\n",
            "\r0% [1 InRelease gpgv 3,626 B] [Connecting to archive.ubuntu.com (91.189.88.152)\r                                                                               \rHit:4 https://developer.download.nvidia.com/compute/cuda/repos/ubuntu1804/x86_64  Release\n",
            "\r0% [1 InRelease gpgv 3,626 B] [Connecting to archive.ubuntu.com (91.189.88.152)\r                                                                               \rGet:5 https://developer.download.nvidia.com/compute/machine-learning/repos/ubuntu1804/x86_64  Release [564 B]\n",
            "Get:6 https://developer.download.nvidia.com/compute/machine-learning/repos/ubuntu1804/x86_64  Release.gpg [833 B]\n",
            "Get:7 http://ppa.launchpad.net/c2d4u.team/c2d4u4.0+/ubuntu bionic InRelease [15.9 kB]\n",
            "Get:8 http://security.ubuntu.com/ubuntu bionic-security InRelease [88.7 kB]\n",
            "Hit:9 http://archive.ubuntu.com/ubuntu bionic InRelease\n",
            "Get:10 https://cloud.r-project.org/bin/linux/ubuntu bionic-cran40/ Packages [43.6 kB]\n",
            "Get:11 http://archive.ubuntu.com/ubuntu bionic-updates InRelease [88.7 kB]\n",
            "Hit:13 http://ppa.launchpad.net/cran/libgit2/ubuntu bionic InRelease\n",
            "Get:14 https://developer.download.nvidia.com/compute/machine-learning/repos/ubuntu1804/x86_64  Packages [66.5 kB]\n",
            "Get:15 http://ppa.launchpad.net/graphics-drivers/ppa/ubuntu bionic InRelease [21.3 kB]\n",
            "Get:16 http://archive.ubuntu.com/ubuntu bionic-backports InRelease [74.6 kB]\n",
            "Get:17 http://ppa.launchpad.net/c2d4u.team/c2d4u4.0+/ubuntu bionic/main Sources [1,707 kB]\n",
            "Get:18 http://security.ubuntu.com/ubuntu bionic-security/main amd64 Packages [1,872 kB]\n",
            "Get:19 http://archive.ubuntu.com/ubuntu bionic-updates/restricted amd64 Packages [304 kB]\n",
            "Get:20 http://security.ubuntu.com/ubuntu bionic-security/universe amd64 Packages [1,376 kB]\n",
            "Get:21 http://archive.ubuntu.com/ubuntu bionic-updates/multiverse amd64 Packages [45.6 kB]\n",
            "Get:22 http://archive.ubuntu.com/ubuntu bionic-updates/main amd64 Packages [2,298 kB]\n",
            "Get:23 http://security.ubuntu.com/ubuntu bionic-security/restricted amd64 Packages [278 kB]\n",
            "Get:24 http://ppa.launchpad.net/c2d4u.team/c2d4u4.0+/ubuntu bionic/main amd64 Packages [874 kB]\n",
            "Get:25 http://archive.ubuntu.com/ubuntu bionic-updates/universe amd64 Packages [2,140 kB]\n",
            "Get:26 http://ppa.launchpad.net/graphics-drivers/ppa/ubuntu bionic/main amd64 Packages [49.2 kB]\n",
            "Fetched 11.3 MB in 4s (2,781 kB/s)\n",
            "Reading package lists... Done\n"
          ],
          "name": "stdout"
        }
      ]
    },
    {
      "cell_type": "code",
      "metadata": {
        "id": "ztXiP0HTjOAb"
      },
      "source": [
        "from pyspark.sql import SparkSession\r\n",
        "from pyspark.sql.functions import udf,col\r\n",
        "from pyspark.sql.types import IntegerType\r\n",
        "from pyspark.sql.functions import round, col\r\n",
        "spark = SparkSession.builder.appName(\"Vine_Review\").getOrCreate()"
      ],
      "execution_count": 2,
      "outputs": []
    },
    {
      "cell_type": "code",
      "metadata": {
        "id": "2bCtv6-Xjkk-"
      },
      "source": [
        "from pyspark import SparkFiles\r\n",
        "url = \"https://s3.amazonaws.com/amazon-reviews-pds/tsv/amazon_reviews_us_Automotive_v1_00.tsv.gz\"\r\n",
        "spark.sparkContext.addFile(url)\r\n",
        "df = spark.read.option(\"encoding\", \"UTF-8\").csv(SparkFiles.get(\"\"), sep=\"\\t\", header=True, inferSchema=True)"
      ],
      "execution_count": 3,
      "outputs": []
    },
    {
      "cell_type": "code",
      "metadata": {
        "colab": {
          "base_uri": "https://localhost:8080/"
        },
        "id": "q_irqayzjnO5",
        "outputId": "b29ca2ae-03cc-4ff2-8ce4-20547bafada6"
      },
      "source": [
        "# Read in the Review dataset as a DataFrame\r\n",
        "df.show(10)"
      ],
      "execution_count": 4,
      "outputs": [
        {
          "output_type": "stream",
          "text": [
            "+-----------+-----------+--------------+----------+--------------+--------------------+----------------+-----------+-------------+-----------+----+-----------------+--------------------+--------------------+-----------+\n",
            "|marketplace|customer_id|     review_id|product_id|product_parent|       product_title|product_category|star_rating|helpful_votes|total_votes|vine|verified_purchase|     review_headline|         review_body|review_date|\n",
            "+-----------+-----------+--------------+----------+--------------+--------------------+----------------+-----------+-------------+-----------+----+-----------------+--------------------+--------------------+-----------+\n",
            "|         US|   36075342| RAB23OVFNCXZQ|B00LPRXQ4Y|     339193102|17\" 2003-2006 For...|      Automotive|          1|            0|          0|   N|                Y|     As it was used,|As it was used, t...| 2015-08-31|\n",
            "|         US|   42462164|R3NORADVJO6IE6|B000C7S0TO|     907684644|Spectra Premium C...|      Automotive|          5|            0|          0|   N|                Y|          Five Stars|Put it in fine, n...| 2015-08-31|\n",
            "|         US|   21241933|R299F4SO98S5OO|B000CO9WE4|     752246352|K&N E-4665 High P...|      Automotive|          5|            1|          1|   N|                Y|Great fit and per...|Fit wonderfully o...| 2015-08-31|\n",
            "|         US|   52570308|R2DA9DOT03UW6I|B000GKD5NI|     105401756|Suncutters Rear W...|      Automotive|          5|            2|          3|   N|                Y|Good for the pric...|Good for the pric...| 2015-08-31|\n",
            "|         US|   38200102|R2OGCH681EQHU6|B009SDA7TE|     728471129|Lug Nuts Landcrui...|      Automotive|          5|            0|          0|   N|                Y|          Five Stars|Fit perfectly on ...| 2015-08-31|\n",
            "|         US|   34866169| R2JMKIC16MHD7|B00KV15KRG|     962286893|Fits 2007-2009 Ho...|      Automotive|          5|            2|          2|   N|                Y|Fit Well and Bett...|Product fits well...| 2015-08-31|\n",
            "|         US|     184627|R1DB5DA7CWWTI8|B0002JMAKW|     267002949|Castrol 12614 Dot...|      Automotive|          5|            0|          0|   N|                Y|convenient, fast ...|convenient ,fast ...| 2015-08-31|\n",
            "|         US|    2975964|R1N8XWFDK4QACP|B00XJKMM6S|     570789093|New Power Window ...|      Automotive|          5|            0|          0|   N|                Y|          Five Stars|             is good| 2015-08-31|\n",
            "|         US|   40946484|R19VFLX6MRU0CX|B000C5CEKC|     389524802|Motorad MGC-791 L...|      Automotive|          5|            0|          0|   N|                Y|GOOD deal.  Great...|wonderful.  if yo...| 2015-08-31|\n",
            "|         US|   12554469| RLTD8YDGTP9PT|B00GD9R2A8|      21425394|Genuine Ford AL3Z...|      Automotive|          1|            0|          0|   N|                Y|Does not fit my F...|Does not work wit...| 2015-08-31|\n",
            "+-----------+-----------+--------------+----------+--------------+--------------------+----------------+-----------+-------------+-----------+----+-----------------+--------------------+--------------------+-----------+\n",
            "only showing top 10 rows\n",
            "\n"
          ],
          "name": "stdout"
        }
      ]
    },
    {
      "cell_type": "code",
      "metadata": {
        "id": "Q9an8zqZfN5z"
      },
      "source": [
        "df.write.csv('/content/sample.csv')"
      ],
      "execution_count": 5,
      "outputs": []
    },
    {
      "cell_type": "code",
      "metadata": {
        "colab": {
          "base_uri": "https://localhost:8080/"
        },
        "id": "D1UJUWoPkDO5",
        "outputId": "9717e8c8-b7fa-4f1c-b5b4-585bf0a5cb48"
      },
      "source": [
        "# Step 1: Filter total votes count that is equal to or greater than 20\r\n",
        "filtered_vote_df = df.filter((df.total_votes>=20))\r\n",
        "filtered_vote_df.show(5)"
      ],
      "execution_count": 6,
      "outputs": [
        {
          "output_type": "stream",
          "text": [
            "+-----------+-----------+--------------+----------+--------------+--------------------+----------------+-----------+-------------+-----------+----+-----------------+--------------------+--------------------+-----------+\n",
            "|marketplace|customer_id|     review_id|product_id|product_parent|       product_title|product_category|star_rating|helpful_votes|total_votes|vine|verified_purchase|     review_headline|         review_body|review_date|\n",
            "+-----------+-----------+--------------+----------+--------------+--------------------+----------------+-----------+-------------+-----------+----+-----------------+--------------------+--------------------+-----------+\n",
            "|         US|   36886257|R1T4FVSABO0IDP|B00V03D9KY|     966609438|Lukas Lk-7950 WD ...|      Automotive|          5|            8|         31|   N|                Y|      Great Value!!!|LK-7950 is an out...| 2015-08-31|\n",
            "|         US|   21035025|R397VXR1GAK6C9|B00IS941D2|     373170065|EAG 07-17 Jeep Wr...|      Automotive|          5|           21|         21|   N|                Y|Awesome bumper. I...|Awesome bumper. I...| 2015-08-31|\n",
            "|         US|   11359139|R2H6KB9RHS17GA|B00VNBDWPK|     790984844|OPT7 Fluxbeam LED...|      Automotive|          3|           59|         69|   N|                Y|Great bulb with a...|These bulbs are g...| 2015-08-31|\n",
            "|         US|   30634293|R3HAK0MUN9F5IT|B00UW4DLJ6|     591002423|Brightech - SCORP...|      Automotive|          1|            6|         28|   N|                Y|            One Star|Sparks flew out o...| 2015-08-31|\n",
            "|         US|   43577705|R29UTZTOPUVRSV|B0101SLT5U|     735754927|Crystal Bling Car...|      Automotive|          5|           21|         21|   N|                Y|             LOVE IT|I absolutely LOVE...| 2015-08-31|\n",
            "+-----------+-----------+--------------+----------+--------------+--------------------+----------------+-----------+-------------+-----------+----+-----------------+--------------------+--------------------+-----------+\n",
            "only showing top 5 rows\n",
            "\n"
          ],
          "name": "stdout"
        }
      ]
    },
    {
      "cell_type": "code",
      "metadata": {
        "colab": {
          "base_uri": "https://localhost:8080/"
        },
        "id": "Y2ZNFfXnksZg",
        "outputId": "4de6d52b-a88f-49e8-d608-2b4dc43eb3a3"
      },
      "source": [
        "# Step 2: Filter dataframe created in Step1 to retrieve all rows where the numbers of helpful_votes divided by total_votes =>50%\r\n",
        "filtered_vote_percentage_df = filtered_vote_df.filter(((filtered_vote_df.helpful_votes)/(filtered_vote_df.total_votes))>=0.5)\r\n",
        "filtered_vote_percentage_df.show(10)"
      ],
      "execution_count": 7,
      "outputs": [
        {
          "output_type": "stream",
          "text": [
            "+-----------+-----------+--------------+----------+--------------+--------------------+----------------+-----------+-------------+-----------+----+-----------------+--------------------+--------------------+-----------+\n",
            "|marketplace|customer_id|     review_id|product_id|product_parent|       product_title|product_category|star_rating|helpful_votes|total_votes|vine|verified_purchase|     review_headline|         review_body|review_date|\n",
            "+-----------+-----------+--------------+----------+--------------+--------------------+----------------+-----------+-------------+-----------+----+-----------------+--------------------+--------------------+-----------+\n",
            "|         US|   21035025|R397VXR1GAK6C9|B00IS941D2|     373170065|EAG 07-17 Jeep Wr...|      Automotive|          5|           21|         21|   N|                Y|Awesome bumper. I...|Awesome bumper. I...| 2015-08-31|\n",
            "|         US|   11359139|R2H6KB9RHS17GA|B00VNBDWPK|     790984844|OPT7 Fluxbeam LED...|      Automotive|          3|           59|         69|   N|                Y|Great bulb with a...|These bulbs are g...| 2015-08-31|\n",
            "|         US|   43577705|R29UTZTOPUVRSV|B0101SLT5U|     735754927|Crystal Bling Car...|      Automotive|          5|           21|         21|   N|                Y|             LOVE IT|I absolutely LOVE...| 2015-08-31|\n",
            "|         US|   11599061| RY9FLUD8VG6XD|B009W85R4A|     415177022|Full Size Truck B...|      Automotive|          4|           27|         32|   N|                Y|Fits my 2000 Chev...|Fits my 2000 Chev...| 2015-08-31|\n",
            "|         US|   14562622|R3Q5NAY8BGAKHI|B000GQA8DC|     228692727|Rampage Jeep 3922...|      Automotive|          5|           34|         40|   N|                Y|          Five Stars|            Love it!| 2015-08-31|\n",
            "|         US|   52600055| RRVJ7TYDEK7EO|B002G3OG6S|     845275995|Bosch Aerotwin 33...|      Automotive|          5|           30|         30|   N|                Y|Is the the right ...|These wipers fit ...| 2015-08-31|\n",
            "|         US|   13188223|R2S4CHISQA2WDH|B00LAJTEFW|     592035376|VTR TR-416 1 1/2\"...|      Automotive|          5|           17|         20|   N|                Y|F250's rubber val...|I have an F250 an...| 2015-08-31|\n",
            "|         US|   47664434|R1JNALJ77OULPH|B00G620ZVU|     838834695|Nilight Driving F...|      Automotive|          4|           57|         65|   N|                Y|So far so good, b...|These lights look...| 2015-08-31|\n",
            "|         US|   12510444|R13YNG792BCR77|B00JZQXJ3K|     411955465|TYGER Towing Comb...|      Automotive|          5|           19|         20|   N|                Y|I decided to buy ...|So I bought a new...| 2015-08-31|\n",
            "|         US|   31186838|R1RYG8MVOPK4Q2|B00OHZ20X4|      87658863|AutoFloorGuard Co...|      Automotive|          5|           18|         20|   N|                Y|Critical Applicat...|I'm extremely sat...| 2015-08-31|\n",
            "+-----------+-----------+--------------+----------+--------------+--------------------+----------------+-----------+-------------+-----------+----+-----------------+--------------------+--------------------+-----------+\n",
            "only showing top 10 rows\n",
            "\n"
          ],
          "name": "stdout"
        }
      ]
    },
    {
      "cell_type": "code",
      "metadata": {
        "colab": {
          "base_uri": "https://localhost:8080/"
        },
        "id": "rz-LiE8plan4",
        "outputId": "34c8db01-6965-4b0d-e595-7cf919dc1d45"
      },
      "source": [
        "# Step 3: Filter df in step 2 to retrieve reviews as part of the Vine program (vine =='Y')\r\n",
        "filtered_vine_y_df = filtered_vote_percentage_df.filter((filtered_vote_percentage_df.vine == 'Y'))\r\n",
        "#.drop_duplicates(['product_id'])\r\n",
        "filtered_vine_y_df.show(5)"
      ],
      "execution_count": 8,
      "outputs": [
        {
          "output_type": "stream",
          "text": [
            "+-----------+-----------+--------------+----------+--------------+--------------------+----------------+-----------+-------------+-----------+----+-----------------+--------------------+--------------------+-----------+\n",
            "|marketplace|customer_id|     review_id|product_id|product_parent|       product_title|product_category|star_rating|helpful_votes|total_votes|vine|verified_purchase|     review_headline|         review_body|review_date|\n",
            "+-----------+-----------+--------------+----------+--------------+--------------------+----------------+-----------+-------------+-----------+----+-----------------+--------------------+--------------------+-----------+\n",
            "|         US|   35560012| REKN4PLM5174P|B00P9OF04I|      44916596|Meguiar's Heavy D...|      Automotive|          4|          219|        225|   Y|                N|Head 2 Head, It's...|Having come into ...| 2015-07-08|\n",
            "|         US|   52693410| RQOG8IIJX7CKB|B00P9OF04I|      44916596|Meguiar's Heavy D...|      Automotive|          4|           21|         27|   Y|                N|it cleans well en...|After nearly 8 an...| 2015-05-06|\n",
            "|         US|   51881294|R33EJ9PSZR13CM|B00PA2LMVY|     752637486|Griot's Garage 10...|      Automotive|          4|           26|         30|   Y|                N|Griot's Garage Br...|I decided to do a...| 2015-04-10|\n",
            "|         US|   34159914| RD2BFV896F321|B00JF5HR7K|     738632753|CURT Basket Style...|      Automotive|          5|           16|         20|   Y|                N|      Indespensible!|I have a family o...| 2015-04-08|\n",
            "|         US|   42466433|R37GSXLA11XF8N|B001TFE38A|     251522966|Chemical Guys (WA...|      Automotive|          5|           30|         34|   Y|                N|An exceptional pr...|As a youth I had ...| 2014-12-31|\n",
            "+-----------+-----------+--------------+----------+--------------+--------------------+----------------+-----------+-------------+-----------+----+-----------------+--------------------+--------------------+-----------+\n",
            "only showing top 5 rows\n",
            "\n"
          ],
          "name": "stdout"
        }
      ]
    },
    {
      "cell_type": "code",
      "metadata": {
        "colab": {
          "base_uri": "https://localhost:8080/"
        },
        "id": "GhAgfmgomBCI",
        "outputId": "081c8c0a-9774-419d-a45b-272be4f01d5b"
      },
      "source": [
        "# Step 4: Repeat step 3 but filter by non-vine program (vine == 'N')\r\n",
        "filtered_vine_n_df = filtered_vote_percentage_df.filter((filtered_vote_percentage_df.vine == 'N'))\r\n",
        "filtered_vine_n_df.show(5)"
      ],
      "execution_count": null,
      "outputs": [
        {
          "output_type": "stream",
          "text": [
            "+-----------+-----------+--------------+----------+--------------+--------------------+----------------+-----------+-------------+-----------+----+-----------------+--------------------+--------------------+-----------+\n",
            "|marketplace|customer_id|     review_id|product_id|product_parent|       product_title|product_category|star_rating|helpful_votes|total_votes|vine|verified_purchase|     review_headline|         review_body|review_date|\n",
            "+-----------+-----------+--------------+----------+--------------+--------------------+----------------+-----------+-------------+-----------+----+-----------------+--------------------+--------------------+-----------+\n",
            "|         US|   21035025|R397VXR1GAK6C9|B00IS941D2|     373170065|EAG 07-17 Jeep Wr...|      Automotive|          5|           21|         21|   N|                Y|Awesome bumper. I...|Awesome bumper. I...| 2015-08-31|\n",
            "|         US|   11359139|R2H6KB9RHS17GA|B00VNBDWPK|     790984844|OPT7 Fluxbeam LED...|      Automotive|          3|           59|         69|   N|                Y|Great bulb with a...|These bulbs are g...| 2015-08-31|\n",
            "|         US|   43577705|R29UTZTOPUVRSV|B0101SLT5U|     735754927|Crystal Bling Car...|      Automotive|          5|           21|         21|   N|                Y|             LOVE IT|I absolutely LOVE...| 2015-08-31|\n",
            "|         US|   11599061| RY9FLUD8VG6XD|B009W85R4A|     415177022|Full Size Truck B...|      Automotive|          4|           27|         32|   N|                Y|Fits my 2000 Chev...|Fits my 2000 Chev...| 2015-08-31|\n",
            "|         US|   14562622|R3Q5NAY8BGAKHI|B000GQA8DC|     228692727|Rampage Jeep 3922...|      Automotive|          5|           34|         40|   N|                Y|          Five Stars|            Love it!| 2015-08-31|\n",
            "+-----------+-----------+--------------+----------+--------------+--------------------+----------------+-----------+-------------+-----------+----+-----------------+--------------------+--------------------+-----------+\n",
            "only showing top 5 rows\n",
            "\n"
          ],
          "name": "stdout"
        }
      ]
    },
    {
      "cell_type": "code",
      "metadata": {
        "colab": {
          "base_uri": "https://localhost:8080/"
        },
        "id": "7LzOWXFUU-xm",
        "outputId": "b115ca47-ff25-4b01-bf0e-110f37e5b7a5"
      },
      "source": [
        "# Step 5: Determine total number of reviews, 5-star reviews, and % of 5-star reviews for the two types of review (paid vs unpaid)\r\n",
        "total_vine_y = filtered_vine_y_df.groupby(\"product_category\").count().withColumnRenamed('count','Total Vine Count')\r\n",
        "total_vine_y.show()"
      ],
      "execution_count": null,
      "outputs": [
        {
          "output_type": "stream",
          "text": [
            "+----------------+----------------+\n",
            "|product_category|Total Vine Count|\n",
            "+----------------+----------------+\n",
            "|      Automotive|              82|\n",
            "+----------------+----------------+\n",
            "\n"
          ],
          "name": "stdout"
        }
      ]
    },
    {
      "cell_type": "code",
      "metadata": {
        "id": "gtJ5djB4mLEo",
        "colab": {
          "base_uri": "https://localhost:8080/"
        },
        "outputId": "8e9f8766-4fdb-471e-815d-2ef652ff34df"
      },
      "source": [
        "total_vine_y_star = filtered_vine_y_df.groupby(\"star_rating\").count().sort('star_rating', ascending=False).withColumnRenamed('count','Total_Vine_Customers')\r\n",
        "total_vine_y_star.show()\r\n",
        "\r\n"
      ],
      "execution_count": null,
      "outputs": [
        {
          "output_type": "stream",
          "text": [
            "+-----------+--------------------+\n",
            "|star_rating|Total_Vine_Customers|\n",
            "+-----------+--------------------+\n",
            "|          5|                  33|\n",
            "|          4|                  20|\n",
            "|          3|                  18|\n",
            "|          2|                   8|\n",
            "|          1|                   3|\n",
            "+-----------+--------------------+\n",
            "\n"
          ],
          "name": "stdout"
        }
      ]
    },
    {
      "cell_type": "code",
      "metadata": {
        "colab": {
          "base_uri": "https://localhost:8080/"
        },
        "id": "Xnm8jCIIyHw1",
        "outputId": "0775a156-72c8-498f-d78d-128e0a8206d7"
      },
      "source": [
        "vine_y_fivestar_df = total_vine_y_star.selectExpr('*', 'Total_Vine_Customers/82*100 as col3').withColumnRenamed('col3','Vine Star Review (%)')\r\n",
        "vine_y_fivestar_df.show()"
      ],
      "execution_count": null,
      "outputs": [
        {
          "output_type": "stream",
          "text": [
            "+-----------+--------------------+--------------------+\n",
            "|star_rating|Total_Vine_Customers|Vine Star Review (%)|\n",
            "+-----------+--------------------+--------------------+\n",
            "|          5|                  33|  40.243902439024396|\n",
            "|          4|                  20|  24.390243902439025|\n",
            "|          3|                  18|  21.951219512195124|\n",
            "|          2|                   8|    9.75609756097561|\n",
            "|          1|                   3|  3.6585365853658534|\n",
            "+-----------+--------------------+--------------------+\n",
            "\n"
          ],
          "name": "stdout"
        }
      ]
    },
    {
      "cell_type": "code",
      "metadata": {
        "colab": {
          "base_uri": "https://localhost:8080/"
        },
        "id": "HhHk8BAp3nI6",
        "outputId": "331b94ed-aae5-4bff-cbb1-b5d593a73243"
      },
      "source": [
        "vine_y_fivestar_df.select(\"*\", round(col('Vine Star Review (%)'),2)).show()"
      ],
      "execution_count": null,
      "outputs": [
        {
          "output_type": "stream",
          "text": [
            "+-----------+--------------------+--------------------+------------------------------+\n",
            "|star_rating|Total_Vine_Customers|Vine Star Review (%)|round(Vine Star Review (%), 2)|\n",
            "+-----------+--------------------+--------------------+------------------------------+\n",
            "|          5|                  33|  40.243902439024396|                         40.24|\n",
            "|          4|                  20|  24.390243902439025|                         24.39|\n",
            "|          3|                  18|  21.951219512195124|                         21.95|\n",
            "|          2|                   8|    9.75609756097561|                          9.76|\n",
            "|          1|                   3|  3.6585365853658534|                          3.66|\n",
            "+-----------+--------------------+--------------------+------------------------------+\n",
            "\n"
          ],
          "name": "stdout"
        }
      ]
    },
    {
      "cell_type": "code",
      "metadata": {
        "id": "ynXhsPTgydyg"
      },
      "source": [
        ""
      ],
      "execution_count": null,
      "outputs": []
    },
    {
      "cell_type": "code",
      "metadata": {
        "colab": {
          "base_uri": "https://localhost:8080/"
        },
        "id": "gKEHSQjAVcCF",
        "outputId": "7a20fc28-cc6c-4d65-82f4-b158d19b65a2"
      },
      "source": [
        "total_vine_n = filtered_vine_n_df.groupby(\"product_category\").count().withColumnRenamed('count','Total Non-Vine Count')\r\n",
        "total_vine_n.show()"
      ],
      "execution_count": null,
      "outputs": [
        {
          "output_type": "stream",
          "text": [
            "+----------------+--------------------+\n",
            "|product_category|Total Non-Vine Count|\n",
            "+----------------+--------------------+\n",
            "|      Automotive|               24742|\n",
            "+----------------+--------------------+\n",
            "\n"
          ],
          "name": "stdout"
        }
      ]
    },
    {
      "cell_type": "code",
      "metadata": {
        "id": "9iSPLWPqU9tU"
      },
      "source": [
        ""
      ],
      "execution_count": null,
      "outputs": []
    },
    {
      "cell_type": "code",
      "metadata": {
        "colab": {
          "base_uri": "https://localhost:8080/"
        },
        "id": "q-ft4FoAwRCA",
        "outputId": "63f02da0-a92a-4bd6-a628-6de7cb53288f"
      },
      "source": [
        "total_vine_n_star = filtered_vine_n_df.groupby(\"star_rating\").count().sort('star_rating', ascending=False).withColumnRenamed('count','Total_Non_Vine_Customers')\r\n",
        "total_vine_n_star.show()\r\n"
      ],
      "execution_count": null,
      "outputs": [
        {
          "output_type": "stream",
          "text": [
            "+-----------+------------------------+\n",
            "|star_rating|Total_Non_Vine_Customers|\n",
            "+-----------+------------------------+\n",
            "|          5|                   12807|\n",
            "|          4|                    3634|\n",
            "|          3|                    1997|\n",
            "|          2|                    1475|\n",
            "|          1|                    4829|\n",
            "+-----------+------------------------+\n",
            "\n"
          ],
          "name": "stdout"
        }
      ]
    },
    {
      "cell_type": "code",
      "metadata": {
        "colab": {
          "base_uri": "https://localhost:8080/"
        },
        "id": "iQ8_zdfmQz8W",
        "outputId": "afbac242-daae-4c41-9e1a-c39960825979"
      },
      "source": [
        "vine_n_fivestar_df = total_vine_n_star.selectExpr('*', 'Total_Non_Vine_Customers/24742*100 as col3').withColumnRenamed('col3','Non-Vine Star Review (%)')\r\n",
        "vine_n_fivestar_df.show()"
      ],
      "execution_count": null,
      "outputs": [
        {
          "output_type": "stream",
          "text": [
            "+-----------+------------------------+------------------------+\n",
            "|star_rating|Total_Non_Vine_Customers|Non-Vine Star Review (%)|\n",
            "+-----------+------------------------+------------------------+\n",
            "|          5|                   12807|       51.76218575701237|\n",
            "|          4|                    3634|      14.687575782070972|\n",
            "|          3|                    1997|       8.071295772370867|\n",
            "|          2|                    1475|       5.961522916498263|\n",
            "|          1|                    4829|      19.517419772047532|\n",
            "+-----------+------------------------+------------------------+\n",
            "\n"
          ],
          "name": "stdout"
        }
      ]
    },
    {
      "cell_type": "code",
      "metadata": {
        "colab": {
          "base_uri": "https://localhost:8080/"
        },
        "id": "DdDIDaWM6MdE",
        "outputId": "aba1ea01-9276-424f-c98d-c4742f89da92"
      },
      "source": [
        "vine_n_fivestar_df.select(\"*\", round(col('Non-Vine Star Review (%)'),2)).show()"
      ],
      "execution_count": null,
      "outputs": [
        {
          "output_type": "stream",
          "text": [
            "+-----------+------------------------+------------------------+----------------------------------+\n",
            "|star_rating|Total_Non_Vine_Customers|Non-Vine Star Review (%)|round(Non-Vine Star Review (%), 2)|\n",
            "+-----------+------------------------+------------------------+----------------------------------+\n",
            "|          5|                   12807|       51.76218575701237|                             51.76|\n",
            "|          4|                    3634|      14.687575782070972|                             14.69|\n",
            "|          3|                    1997|       8.071295772370867|                              8.07|\n",
            "|          2|                    1475|       5.961522916498263|                              5.96|\n",
            "|          1|                    4829|      19.517419772047532|                             19.52|\n",
            "+-----------+------------------------+------------------------+----------------------------------+\n",
            "\n"
          ],
          "name": "stdout"
        }
      ]
    }
  ]
}